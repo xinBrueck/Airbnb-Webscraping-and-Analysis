{
 "cells": [
  {
   "cell_type": "code",
   "execution_count": 3,
   "metadata": {
    "collapsed": false
   },
   "outputs": [],
   "source": [
    "import json\n",
    "from bs4 import BeautifulSoup\n",
    "import requests\n",
    "import time\n",
    "import csv\n",
    "\n",
    "from selenium import webdriver"
   ]
  },
  {
   "cell_type": "code",
   "execution_count": 4,
   "metadata": {
    "collapsed": false
   },
   "outputs": [],
   "source": [
    "def getSeattleListingURLSinglePg(minPrice, maxPrice, itemOffset, listingList):\n",
    "    base_url = 'https://www.airbnb.com/s'\n",
    "    search_city = '/Seattle--WA--United-States/homes?'\n",
    "    refinements = 'refinement_paths%5B%5D=%2Fhomes&query=Seattle%2C%20WA&place_id=ChIJVTPokywQkFQRmtVEaUZlJRA&search_type=pagination&s_tag=Dg4jrsse&section_offset=7&items_offset={}&price_min={}&price_max={}&room_types%5B%5D=Entire%20home%2Fapt&room_types%5B%5D=Private%20room'.format(itemOffset, minPrice, maxPrice)\n",
    "    url =  base_url + search_city + refinements\n",
    "    \n",
    "    # put the path to chromedriver\n",
    "    driver = webdriver.Chrome('./chromedriver') \n",
    "    driver.get(url) \n",
    "    html = driver.page_source\n",
    "    soup = BeautifulSoup(html, \"lxml\")\n",
    "    \n",
    "    listings = soup.find_all('meta', itemprop = 'url')\n",
    "    \n",
    "    for listing in listings:\n",
    "        url = listing['content'].split('?')[0]\n",
    "        listingList.append(url)\n",
    "    \n",
    "    driver.quit()\n",
    "    return listingList"
   ]
  },
  {
   "cell_type": "code",
   "execution_count": 5,
   "metadata": {
    "collapsed": true
   },
   "outputs": [],
   "source": [
    "def getMaxNumPg(minPrice, maxPrice):\n",
    "    base_url = 'https://www.airbnb.com/s'\n",
    "    search_city = '/Seattle--WA--United-States/homes?'\n",
    "    refinements = 'refinement_paths%5B%5D=%2Fhomes&query=Seattle%2C%20WA&place_id=ChIJVTPokywQkFQRmtVEaUZlJRA&search_type=pagination&s_tag=Dg4jrsse&section_offset=7&items_offset=0&price_min={}&price_max={}&room_types%5B%5D=Entire%20home%2Fapt&room_types%5B%5D=Private%20room'.format(minPrice, maxPrice)\n",
    "    url =  base_url + search_city + refinements\n",
    "    \n",
    "    driver = webdriver.Chrome('./chromedriver') \n",
    "    driver.get(url) \n",
    "    html = driver.page_source\n",
    "    soup = BeautifulSoup(html, \"lxml\")\n",
    "    \n",
    "    pages = (soup.find('ul', class_ = '_11hau3k')).find_all('li')\n",
    "#     pages = soup.find_all('li')\n",
    "    lastPage = (((pages[4])['data-id']).split('-'))[1]\n",
    "\n",
    "    return int(lastPage)"
   ]
  },
  {
   "cell_type": "code",
   "execution_count": 6,
   "metadata": {
    "collapsed": true
   },
   "outputs": [],
   "source": [
    "def getSeattleListingURLMultiPg(minPrice, maxPrice, numPg, listingList):\n",
    "    ##get max number of page from the search result\n",
    "#     maxPg = getMaxNumPg(minPrice, maxPrice)\n",
    "    \n",
    "#     totalPg = min(maxPg, numPg) # get total number of pages to get\n",
    "    totalPg = numPg\n",
    "    currentPg = 1 # starting at page 1\n",
    "    while currentPg <= totalPg:\n",
    "        currentItemOffset = (currentPg-1) * 18    #18 items per page\n",
    "        listingList = getSeattleListingURLSinglePg(minPrice, maxPrice, currentItemOffset, listingList)\n",
    "        \n",
    "        currentPg += 1\n",
    "        \n",
    "    return listingList\n"
   ]
  },
  {
   "cell_type": "code",
   "execution_count": 12,
   "metadata": {
    "collapsed": false
   },
   "outputs": [],
   "source": [
    "def getSeattleListingURLMultiPrice(overallMinPrice, overallMaxPrice, listingList):\n",
    "    ## listings for every 5 dollar price cut\n",
    "    priceRange = range(overallMinPrice, overallMaxPrice+1, 5)\n",
    "    \n",
    "    for i in range(len(priceRange) - 1):\n",
    "        minPrice = priceRange[i] + 1 if i > 0 else priceRange[i]\n",
    "        maxPrice = priceRange[i + 1]\n",
    "    \n",
    "        ## for each price range get 12 pages\n",
    "        print(minPrice)\n",
    "        print(maxPrice)\n",
    "        listingList = getSeattleListingURLMultiPg(minPrice, maxPrice, 8, listingList)\n",
    "        time.sleep(120) ##sleep 2 minutes \n",
    "         \n",
    "    return listingList"
   ]
  },
  {
   "cell_type": "code",
   "execution_count": 10,
   "metadata": {
    "collapsed": true
   },
   "outputs": [],
   "source": [
    "def writeListingURLs(results, pathToWrite):\n",
    "    with open(pathToWrite, 'a') as f:\n",
    "        for item in results:\n",
    "            f.write(\"%s\\n\" % item)      \n",
    "    f.close()"
   ]
  },
  {
   "cell_type": "code",
   "execution_count": 15,
   "metadata": {
    "collapsed": true
   },
   "outputs": [],
   "source": [
    "overallMinPrice = 50\n",
    "overallMaxPrice = 180\n",
    "seattleAirbnbListings = []\n",
    "seattleAirbnbListings = getSeattleListingURLMultiPrice(overallMinPrice, overallMaxPrice, seattleAirbnbListings)\n",
    "\n",
    "pathToWrite = './data/listingURL.csv'\n",
    "writeListingURLs(seattleAirbnbListings, pathToWrite)"
   ]
  }
 ],
 "metadata": {
  "anaconda-cloud": {},
  "kernelspec": {
   "display_name": "Python [Root]",
   "language": "python",
   "name": "Python [Root]"
  },
  "language_info": {
   "codemirror_mode": {
    "name": "ipython",
    "version": 3
   },
   "file_extension": ".py",
   "mimetype": "text/x-python",
   "name": "python",
   "nbconvert_exporter": "python",
   "pygments_lexer": "ipython3",
   "version": "3.5.2"
  }
 },
 "nbformat": 4,
 "nbformat_minor": 0
}
